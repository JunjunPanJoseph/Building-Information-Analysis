{
 "cells": [
  {
   "cell_type": "code",
   "execution_count": 1,
   "metadata": {
    "collapsed": true,
    "pycharm": {
     "is_executing": false
    }
   },
   "outputs": [
    {
     "name": "stderr",
     "text": [
      "c:\\users\\asus\\appdata\\local\\programs\\python\\python36\\lib\\site-packages\\tslearn\\bases\\bases.py:15: UserWarning: h5py not installed, hdf5 features will not be supported.\n",
      "Install h5py to use hdf5 features: http://docs.h5py.org/\n",
      "  warn(h5py_msg)\n",
      "c:\\users\\asus\\appdata\\local\\programs\\python\\python36\\lib\\site-packages\\tslearn\\clustering\\kmeans.py:17: UserWarning: Scikit-learn <0.24 will be deprecated in a future release of tslearn\n",
      "  \"Scikit-learn <0.24 will be deprecated in a \"\n"
     ],
     "output_type": "stream"
    }
   ],
   "source": [
    "import pandas as pd\n",
    "import matplotlib.pyplot as plt\n",
    "import numpy as np\n",
    "import sklearn\n",
    "import tslearn\n",
    "import os\n",
    "import tslearn.utils \n",
    "import seaborn\n",
    "import pylab\n",
    "from tslearn.clustering import TimeSeriesKMeans, KShape\n",
    "import matplotlib.ticker as ticker\n",
    "import zipfile"
   ]
  },
  {
   "cell_type": "code",
   "execution_count": 2,
   "outputs": [],
   "source": [
    "points_path = \"./iHUB - CoM - Library at the Dock/CSV_Lib@Dock/eletrical meter/\"\n",
    "# points_path = \"./iHUB - CoM - Library at the Dock/CSV_Lib@Dock/temp/\"\n",
    "raw_data = []\n",
    "for zip_filename in os.listdir(points_path):\n",
    "    zip_path = os.path.join(points_path, zip_filename)\n",
    "    zip_obj = zipfile.ZipFile(zip_path)\n",
    "    csv_file = zip_obj.open('E.R. Energy Usage Hour kWh.csv')\n",
    "    # remove first line\n",
    "    csv_file.readline()\n",
    "    \n",
    "    raw_data.append(pd.read_csv(csv_file))"
   ],
   "metadata": {
    "collapsed": false,
    "pycharm": {
     "name": "#%%\n",
     "is_executing": false
    }
   }
  },
  {
   "cell_type": "code",
   "source": [
    "def preprocessing(meter, interpolate=True):\n",
    "    t = list(meter.columns)\n",
    "    t[0] = \"Time stamp\"\n",
    "    meter.columns = t\n",
    "    meter_preprocessed = meter[[\"Time stamp\", \"Value\"]].dropna(axis=0, how='any')\n",
    "    # meter_preprocessed[\"Value\"] = meter_preprocessed[\"Value\"].apply(lambda s: float(s.replace(\",\", \"\")))\n",
    "    meter_preprocessed[\"Time stamp\"] = pd.to_datetime(meter_preprocessed[\"Time stamp\"], format=\"%d/%m/%Y %I:%M:%S %p %Z\")\n",
    "    meter_preprocessed = meter_preprocessed[meter_preprocessed[\"Value\"] < 1000]\n",
    "  \n",
    "    meter_preprocessed = meter_preprocessed[[\"Time stamp\", \"Value\"]].dropna(axis=0, how='any')\n",
    "    if interpolate:\n",
    "        beg= meter_preprocessed[\"Time stamp\"].min().replace(hour=0, minute=59, second=57)\n",
    "        end = meter_preprocessed[\"Time stamp\"].max().replace(hour=23, minute=59, second=57)\n",
    "        helper = pd.DataFrame({\"Time stamp\": pd.date_range(beg, end, freq='1H')})\n",
    "        meter_preprocessed = pd.merge(meter_preprocessed, helper, on='Time stamp', how='outer').sort_values('Time stamp')    \n",
    "        meter_preprocessed = pd.merge(meter_preprocessed, helper, on='Time stamp', how='inner').sort_values('Time stamp')\n",
    "        meter_preprocessed['Value'] = meter_preprocessed['Value'].interpolate(method='linear')\n",
    "        meter_preprocessed = meter_preprocessed[meter_preprocessed[\"Time stamp\"] > beg] \n",
    "        meter_preprocessed = meter_preprocessed[(meter_preprocessed[\"Time stamp\"] < end)] \n",
    "    meter_preprocessed = meter_preprocessed.drop_duplicates(subset=[\"Time stamp\"])\n",
    "    return meter_preprocessed"
   ],
   "metadata": {
    "collapsed": false,
    "pycharm": {
     "name": "#%%\n",
     "is_executing": false
    }
   },
   "execution_count": 3,
   "outputs": []
  },
  {
   "cell_type": "code",
   "execution_count": 4,
   "outputs": [
    {
     "name": "stdout",
     "text": [
      "7235\n",
      "7235\n",
      "7235\n",
      "7239\n",
      "7239\n",
      "7232\n"
     ],
     "output_type": "stream"
    }
   ],
   "source": [
    "preprocessed_data = [preprocessing(x, False) for x in raw_data]\n",
    "\n",
    "for x in preprocessed_data: \n",
    "    print(len(x))"
   ],
   "metadata": {
    "collapsed": false,
    "pycharm": {
     "name": "#%%\n",
     "is_executing": false
    }
   }
  },
  {
   "cell_type": "code",
   "execution_count": 5,
   "outputs": [
    {
     "name": "stdout",
     "text": [
      "366\n"
     ],
     "output_type": "stream"
    }
   ],
   "source": [
    "grouped_data = [x.groupby(pd.Grouper(key=\"Time stamp\", freq=\"D\")) for x in preprocessed_data]\n",
    "for x in grouped_data:\n",
    "    print(len(x))\n",
    "    break"
   ],
   "metadata": {
    "collapsed": false,
    "pycharm": {
     "name": "#%%\n",
     "is_executing": false
    }
   }
  },
  {
   "cell_type": "code",
   "execution_count": 6,
   "outputs": [],
   "source": [
    "grouped_data_filtered = [x.filter(lambda x: len(x) > 23) for x in grouped_data]\n",
    "\n",
    "for temp in range(len(grouped_data_filtered)):\n",
    "    if temp == 0:\n",
    "        continue\n",
    "    out = pd.merge(grouped_data_filtered[0], grouped_data_filtered[temp], how=\"right\", on=\"Time stamp\")\n",
    "    out = out.dropna(axis=0, how='any')[[\"Time stamp\", \"Value_y\"]]\n",
    "    out.columns = [\"Time stamp\", \"Value\"]\n",
    "    grouped_data_filtered[temp] = out"
   ],
   "metadata": {
    "collapsed": false,
    "pycharm": {
     "name": "#%%\n",
     "is_executing": false
    }
   }
  },
  {
   "cell_type": "code",
   "execution_count": 7,
   "outputs": [],
   "source": [
    "for temp in range(len(grouped_data_filtered)):\n",
    "    grouped_data_filtered[temp] = grouped_data_filtered[temp].set_index(\"Time stamp\")"
   ],
   "metadata": {
    "collapsed": false,
    "pycharm": {
     "name": "#%%\n",
     "is_executing": false
    }
   }
  },
  {
   "cell_type": "code",
   "execution_count": 8,
   "outputs": [
    {
     "name": "stdout",
     "text": [
      "6912\n"
     ],
     "output_type": "stream"
    }
   ],
   "source": [
    "val = sum([x[\"Value\"] for x in grouped_data_filtered])\n",
    "print(len(val))"
   ],
   "metadata": {
    "collapsed": false,
    "pycharm": {
     "name": "#%%\n",
     "is_executing": false
    }
   }
  },
  {
   "cell_type": "code",
   "execution_count": 9,
   "outputs": [],
   "source": [
    "meter_sum = pd.DataFrame({\"Value\": sum([x[\"Value\"] for x in grouped_data_filtered])})\n",
    "meter_sum.to_csv(\"./library.csv\")"
   ],
   "metadata": {
    "collapsed": false,
    "pycharm": {
     "name": "#%%\n",
     "is_executing": false
    }
   }
  }
 ],
 "metadata": {
  "kernelspec": {
   "display_name": "Python 3",
   "language": "python",
   "name": "python3"
  },
  "language_info": {
   "codemirror_mode": {
    "name": "ipython",
    "version": 2
   },
   "file_extension": ".py",
   "mimetype": "text/x-python",
   "name": "python",
   "nbconvert_exporter": "python",
   "pygments_lexer": "ipython2",
   "version": "2.7.6"
  },
  "pycharm": {
   "stem_cell": {
    "cell_type": "raw",
    "source": [],
    "metadata": {
     "collapsed": false
    }
   }
  }
 },
 "nbformat": 4,
 "nbformat_minor": 0
}