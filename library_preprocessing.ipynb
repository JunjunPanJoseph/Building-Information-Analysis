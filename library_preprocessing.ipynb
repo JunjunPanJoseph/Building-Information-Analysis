{
 "cells": [
  {
   "cell_type": "code",
   "execution_count": 2,
   "metadata": {
    "collapsed": true,
    "pycharm": {
     "is_executing": false
    }
   },
   "outputs": [],
   "source": [
    "import pandas as pd\n",
    "import matplotlib.pyplot as plt\n",
    "import numpy as np\n",
    "import sklearn\n",
    "import tslearn\n",
    "import os\n",
    "import tslearn.utils \n",
    "import seaborn\n",
    "import pylab\n",
    "from tslearn.clustering import TimeSeriesKMeans, KShape\n",
    "import matplotlib.ticker as ticker\n",
    "import zipfile"
   ]
  },
  {
   "cell_type": "code",
   "execution_count": 24,
   "outputs": [],
   "source": [
    "points_path = \"./iHUB - CoM - Library at the Dock/CSV_Lib@Dock/eletrical meter/\"\n",
    "raw_data = []\n",
    "for zip_filename in os.listdir(points_path):\n",
    "    zip_path = os.path.join(points_path, zip_filename)\n",
    "    zip_obj = zipfile.ZipFile(zip_path)\n",
    "    csv_file = zip_obj.open('E.R. Energy Usage Hour kWh.csv')\n",
    "    # remove first line\n",
    "    csv_file.readline()\n",
    "    \n",
    "    raw_data.append(pd.read_csv(csv_file))"
   ],
   "metadata": {
    "collapsed": false,
    "pycharm": {
     "name": "#%%\n",
     "is_executing": false
    }
   }
  },
  {
   "cell_type": "code",
   "source": [
    "def preprocessing(meter):\n",
    "    t = list(meter.columns)\n",
    "    t[0] = \"Time stamp\"\n",
    "    meter.columns = t\n",
    "    meter_preprocessed = meter[[\"Time stamp\", \"Value\"]].dropna(axis=0, how='any')\n",
    "    # meter_preprocessed[\"Value\"] = meter_preprocessed[\"Value\"].apply(lambda s: float(s.replace(\",\", \"\")))\n",
    "    meter_preprocessed[\"Time stamp\"] = pd.to_datetime(meter_preprocessed[\"Time stamp\"], format=\"%d/%m/%Y %I:%M:%S %p %Z\")\n",
    "    meter_preprocessed = meter_preprocessed[meter_preprocessed[\"Value\"] < 1000]\n",
    "  \n",
    "    meter_preprocessed = meter_preprocessed[[\"Time stamp\", \"Value\"]].dropna(axis=0, how='any')\n",
    "    beg= meter_preprocessed[\"Time stamp\"].min().replace(hour=0, minute=59, second=57)\n",
    "    end = meter_preprocessed[\"Time stamp\"].max().replace(hour=23, minute=59, second=57)\n",
    "    helper = pd.DataFrame({\"Time stamp\": pd.date_range(beg, end, freq='1H')})\n",
    "    meter_preprocessed = pd.merge(meter_preprocessed, helper, on='Time stamp', how='outer').sort_values('Time stamp')    \n",
    "    meter_preprocessed = pd.merge(meter_preprocessed, helper, on='Time stamp', how='inner').sort_values('Time stamp')\n",
    "\n",
    "    meter_preprocessed['Value'] = meter_preprocessed['Value'].interpolate(method='linear')\n",
    "    meter_preprocessed = meter_preprocessed[meter_preprocessed[\"Time stamp\"] > beg] \n",
    "    meter_preprocessed = meter_preprocessed[(meter_preprocessed[\"Time stamp\"] < end)] \n",
    "    meter_preprocessed = meter_preprocessed.drop_duplicates(subset=[\"Time stamp\"])\n",
    "    return meter_preprocessed"
   ],
   "metadata": {
    "collapsed": false,
    "pycharm": {
     "name": "#%%\n",
     "is_executing": false
    }
   },
   "execution_count": 56,
   "outputs": []
  },
  {
   "cell_type": "code",
   "execution_count": 57,
   "outputs": [],
   "source": [
    "preprocessed_data = [preprocessing(x) for x in raw_data]"
   ],
   "metadata": {
    "collapsed": false,
    "pycharm": {
     "name": "#%%\n",
     "is_executing": false
    }
   }
  },
  {
   "cell_type": "code",
   "execution_count": 58,
   "outputs": [
    {
     "name": "stdout",
     "text": [
      "8782\n",
      "8782\n",
      "8782\n",
      "8782\n",
      "8782\n",
      "8782\n",
      "8782\n",
      "8782\n",
      "8782\n",
      "8782\n",
      "8782\n",
      "8782\n",
      "8782\n",
      "8782\n",
      "8782\n",
      "8782\n",
      "8782\n",
      "8782\n",
      "8782\n",
      "8782\n"
     ],
     "output_type": "stream"
    }
   ],
   "source": [
    "for x in preprocessed_data: \n",
    "    print(len(x))"
   ],
   "metadata": {
    "collapsed": false,
    "pycharm": {
     "name": "#%%\n",
     "is_executing": false
    }
   }
  },
  {
   "cell_type": "code",
   "execution_count": 83,
   "outputs": [
    {
     "name": "stdout",
     "text": [
      "                 Time stamp     Value\n",
      "1 2020-08-22 01:59:57-05:00  1.088169\n",
      "2 2020-08-22 02:59:57-05:00  1.088705\n",
      "3 2020-08-22 03:59:57-05:00  1.090142\n",
      "4 2020-08-22 04:59:57-05:00  1.089848\n",
      "5 2020-08-22 05:59:57-05:00  1.089337\n",
      "                 Time stamp     Value\n",
      "1 2020-08-22 01:59:57-05:00  1.628933\n",
      "2 2020-08-22 02:59:57-05:00  1.630833\n",
      "3 2020-08-22 03:59:57-05:00  1.632887\n",
      "4 2020-08-22 04:59:57-05:00  1.625978\n",
      "5 2020-08-22 05:59:57-05:00  1.622517\n"
     ],
     "output_type": "stream"
    }
   ],
   "source": [
    "print(preprocessed_data[0].head(5))\n",
    "print(preprocessed_data[1].head(5))"
   ],
   "metadata": {
    "collapsed": false,
    "pycharm": {
     "name": "#%%\n",
     "is_executing": false
    }
   }
  },
  {
   "cell_type": "code",
   "execution_count": 87,
   "outputs": [],
   "source": [
    "meter_sum = pd.DataFrame({\"Time stamp\": preprocessed_data[0][\"Time stamp\"], \"Value\": sum([x[\"Value\"] for x in preprocessed_data])})"
   ],
   "metadata": {
    "collapsed": false,
    "pycharm": {
     "name": "#%%\n",
     "is_executing": false
    }
   }
  },
  {
   "cell_type": "code",
   "execution_count": 88,
   "outputs": [
    {
     "data": {
      "text/plain": "<matplotlib.axes._subplots.AxesSubplot at 0x16e7493da58>"
     },
     "metadata": {},
     "output_type": "execute_result",
     "execution_count": 88
    },
    {
     "data": {
      "text/plain": "<Figure size 432x288 with 1 Axes>",
      "image/png": "[encoded data removed]"
     },
     "metadata": {
      "needs_background": "light"
     },
     "output_type": "display_data"
    }
   ],
   "source": [
    "meter_sum.plot(x=\"Time stamp\", y=\"Value\")"
   ],
   "metadata": {
    "collapsed": false,
    "pycharm": {
     "name": "#%%\n",
     "is_executing": false
    }
   }
  },
  {
   "cell_type": "code",
   "execution_count": 89,
   "outputs": [],
   "source": [
    "meter_sum.to_csv(\"./library.csv\")"
   ],
   "metadata": {
    "collapsed": false,
    "pycharm": {
     "name": "#%%\n",
     "is_executing": false
    }
   }
  }
 ],
 "metadata": {
  "kernelspec": {
   "display_name": "Python 3",
   "language": "python",
   "name": "python3"
  },
  "language_info": {
   "codemirror_mode": {
    "name": "ipython",
    "version": 2
   },
   "file_extension": ".py",
   "mimetype": "text/x-python",
   "name": "python",
   "nbconvert_exporter": "python",
   "pygments_lexer": "ipython2",
   "version": "2.7.6"
  },
  "pycharm": {
   "stem_cell": {
    "cell_type": "raw",
    "source": [],
    "metadata": {
     "collapsed": false
    }
   }
  }
 },
 "nbformat": 4,
 "nbformat_minor": 0
}