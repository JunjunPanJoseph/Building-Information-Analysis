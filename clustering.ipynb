{
 "cells": [
  {
   "cell_type": "code",
   "execution_count": null,
   "metadata": {
    "collapsed": true,
    "pycharm": {
     "is_executing": false
    }
   },
   "outputs": [],
   "source": [
    "import pandas as pd\n",
    "import pandas\n",
    "import matplotlib.pyplot as plt\n",
    "import numpy as np\n",
    "import numpy\n",
    "import sklearn\n",
    "import tslearn\n",
    "import os\n",
    "import tslearn.utils \n",
    "import seaborn\n",
    "import pylab\n",
    "from tslearn.clustering import TimeSeriesKMeans, KShape\n",
    "import matplotlib.ticker as ticker\n",
    "\n",
    "def preprocessing(meter):\n",
    "    meter_preprocessed = meter[[\"Time stamp\", \"Value\"]].dropna(axis=0, how='any')\n",
    "    meter_preprocessed[\"Value\"] = meter_preprocessed[\"Value\"].apply(lambda s: float(s.replace(\",\", \"\")))\n",
    "    meter_preprocessed[\"Time stamp\"] = pandas.to_datetime(meter_preprocessed[\"Time stamp\"], format=\"%d/%m/%Y %I:%M:%S %p\")\n",
    "    meter_preprocessed = meter_preprocessed[meter_preprocessed[\"Value\"] < 25]\n",
    "    meter_preprocessed = meter_preprocessed[[\"Time stamp\", \"Value\"]].dropna(axis=0, how='any')\n",
    "    beg=meter_preprocessed[\"Time stamp\"].min().replace(hour=23, minute=45, second=0)\n",
    "    end = meter_preprocessed[\"Time stamp\"].max().replace(hour=0, minute=0, second=0)\n",
    "    helper = pandas.DataFrame({\"Time stamp\": pandas.date_range(beg, end, freq='15min')})\n",
    "    meter_preprocessed = pandas.merge(meter_preprocessed, helper, on='Time stamp', how='outer').sort_values('Time stamp')    \n",
    "    meter_preprocessed = pandas.merge(meter_preprocessed, helper, on='Time stamp', how='inner').sort_values('Time stamp')\n",
    "\n",
    "    meter_preprocessed['Value'] = meter_preprocessed['Value'].interpolate(method='linear')\n",
    "    meter_preprocessed = meter_preprocessed[meter_preprocessed[\"Time stamp\"] > beg] \n",
    "    meter_preprocessed = meter_preprocessed[(meter_preprocessed[\"Time stamp\"] < end)] \n",
    "    meter_preprocessed = meter_preprocessed.drop_duplicates(subset=[\"Time stamp\"])\n",
    "    return meter_preprocessed"
   ]
  },
  {
   "cell_type": "code",
   "execution_count": null,
   "outputs": [],
   "source": [
    "n_clusters = 8\n",
    "output_path = \"./report_Library\"\n",
    "# Reading dataset for ladyhunting field\n",
    "# point_path = \"./iHUB - CoM - Lady Huntingfield/Trends from BMS/Meters/LH_ElectricMeter_EMG_9(MSB)_14Jul2020-18Aug2021.csv\"\n",
    "# meter = pandas.read_csv(point_path)\n",
    "# meter_preprocessed = preprocessing(meter)\n",
    "\n",
    "# Reading data for library (preprocessed\n",
    "meter_preprocessed = pandas.read_csv(\"./library.csv\")\n",
    "meter_preprocessed = meter_preprocessed.drop(meter_preprocessed.columns[0], axis=1)\n",
    "meter_preprocessed[\"Time stamp\"] = pandas.to_datetime(meter_preprocessed[\"Time stamp\"])"
   ],
   "metadata": {
    "collapsed": false,
    "pycharm": {
     "name": "#%%\n",
     "is_executing": false
    }
   }
  },
  {
   "cell_type": "code",
   "execution_count": null,
   "outputs": [],
   "source": [],
   "metadata": {
    "collapsed": false,
    "pycharm": {
     "name": "#%%\n"
    }
   }
  },
  {
   "cell_type": "code",
   "execution_count": null,
   "outputs": [],
   "source": [
    "clusters = {\n",
    "    \"AgglomerativeClustering\": {\n",
    "        \"model\": sklearn.cluster.AgglomerativeClustering(n_clusters=n_clusters),\n",
    "        \"sklearn\": True\n",
    "    }, \n",
    "    \"Birch\": {\n",
    "        \"model\": sklearn.cluster.Birch(n_clusters=n_clusters),\n",
    "        \"sklearn\": True\n",
    "    }, \n",
    "    \"KMeansEuclidean\": {\n",
    "        \"model\": TimeSeriesKMeans(n_clusters=n_clusters),\n",
    "        \"sklearn\": False\n",
    "    }, \n",
    "    \"KMeansDTW\": {\n",
    "        \"model\": TimeSeriesKMeans(n_clusters=n_clusters, metric='dtw'),\n",
    "        \"sklearn\": False\n",
    "    }, \n",
    "    \"KMeansEuclidean\": {\n",
    "        \"model\": TimeSeriesKMeans(n_clusters=n_clusters),\n",
    "        \"sklearn\": False\n",
    "    }, \n",
    "    \"KShape\": {\n",
    "        \"model\": KShape(n_clusters=n_clusters),\n",
    "        \"sklearn\": False\n",
    "    }, \n",
    "}"
   ],
   "metadata": {
    "collapsed": false,
    "pycharm": {
     "name": "#%%\n",
     "is_executing": false
    }
   }
  },
  {
   "cell_type": "code",
   "execution_count": 23,
   "outputs": [],
   "source": [
    "def getimgname(cluster_name, n_clusters, type):\n",
    "    return os.path.join(output_path, \"{}-{}-{}.png\".format(cluster_name, n_clusters, type))\n",
    "\n",
    "\n",
    "def get_cluster_heatmap(label, time):\n",
    "    label_x = [\"1\", \"2\", \"3\", \"4\", \"5\", \"6\", \"7\"]\n",
    "    label_y = []\n",
    "    heatmap = []\n",
    "    temp = [-1] * 7\n",
    "    for i in range(len(time)):\n",
    "        temp[time[i].dayofweek] = label[i]\n",
    "        if time[i].dayofweek == 6 or i == len(time) - 1:\n",
    "            label_y.append(\"{}-{}\".format(time[i].year, time[i].week))\n",
    "            # print(str(time[i])+\"  {}-{}\".format(time[i].year, time[i].week))\n",
    "            heatmap.append(temp)\n",
    "            temp = [-1] * 7\n",
    "    plt.figure(figsize=(5, 15))\n",
    "    fig = seaborn.heatmap(heatmap, annot=True, cmap = pylab.get_cmap('PiYG',n_clusters + 1), xticklabels=label_x, yticklabels=label_y).get_figure()\n",
    "    return fig\n",
    "def draw_multiple_timelines(dataset, timestamp, index_list, ax, ylim=20.0):\n",
    "    if (len(index_list) == 0):\n",
    "        return [], [], []\n",
    "    max_line = numpy.max(dataset[index_list], axis=0)\n",
    "    min_line = numpy.min(dataset[index_list], axis=0)\n",
    "    median_line = numpy.median(dataset[index_list], axis=0)\n",
    "    for index in index_list:\n",
    "        df = pandas.DataFrame({'time': timestamp[index], 'value': dataset[index]})\n",
    "        df[\"time\"] = pandas.to_timedelta(df[\"time\"])\n",
    "        df.plot.line(x='time', y='value', ax=ax, color=\"blue\", alpha=0.1, legend=False, ylim=(0, ylim))\n",
    "    # max\n",
    "    df = pandas.DataFrame({'time': timestamp[0], 'value': max_line})\n",
    "    df[\"time\"] = pandas.to_timedelta(df[\"time\"])\n",
    "    df.plot.line(x='time', y='value', ax=ax, color=\"red\", alpha=1, legend=False, ylim=(0, ylim))\n",
    "    # min\n",
    "    df = pandas.DataFrame({'time': timestamp[0], 'value': min_line})\n",
    "    df[\"time\"] = pandas.to_timedelta(df[\"time\"])\n",
    "    df.plot.line(x='time', y='value', ax=ax, color=\"red\", alpha=1, legend=False, ylim=(0, ylim))\n",
    "    # median\n",
    "    df = pandas.DataFrame({'time': timestamp[0], 'value': median_line})\n",
    "    df[\"time\"] = pandas.to_timedelta(df[\"time\"])\n",
    "    df.plot.line(x='time', y='value', ax=ax, color=\"yellow\", alpha=1, legend=False, ylim=(0, ylim))\n",
    "    return max_line, min_line, median_line"
   ],
   "metadata": {
    "collapsed": false,
    "pycharm": {
     "name": "#%%\n",
     "is_executing": false
    }
   }
  },
  {
   "cell_type": "code",
   "execution_count": null,
   "outputs": [],
   "source": [
    "for cluster_name, obj in clusters.items(): \n",
    "    using_sklearn = obj[\"sklearn\"]\n",
    "    km = obj[\"model\"]\n",
    "    # cluster_name=\"Birch\"\n",
    "    using_sklearn = True\n",
    "    #km = KShape(n_clusters=n_clusters)\n",
    "    # km = sklearn.cluster.Birch(n_clusters=n_clusters)\n",
    "    \n",
    "    # grouping data by day\n",
    "    grouped_day = meter_preprocessed.groupby(pandas.Grouper(key=\"Time stamp\", freq=\"D\"))\n",
    "    dataset = [] \n",
    "    timestamp=[]\n",
    "    time = []\n",
    "    for t in grouped_day:\n",
    "        time.append(t[0])\n",
    "        dataset.append(numpy.array(t[1][\"Value\"]))\n",
    "        timestamp.append(numpy.array(t[1][\"Time stamp\"].apply(lambda x: x.strftime(\"%H:%M:%S\"))))\n",
    "        # print(t[0], len(t[1][\"Time stamp\"]))\n",
    "    timestamp = numpy.array(timestamp)\n",
    "    dataset = numpy.array(dataset)\n",
    "    # meter_preprocessed.plot(x=\"Time stamp\", y=\"Value\")\n",
    "    ts_dataset = tslearn.utils.to_time_series_dataset(dataset)\n",
    "    if using_sklearn:\n",
    "        ts_dataset = ts_dataset.squeeze()\n",
    "    if using_sklearn:\n",
    "        label = km.fit_predict(ts_dataset)\n",
    "    else: \n",
    "        km.fit(ts_dataset)\n",
    "        label = km.predict(ts_dataset)\n",
    "    \n",
    "    #%%\\\n",
    "    \n",
    "    # Graph: Class heatmap\n",
    "    fig = get_cluster_heatmap(label, time)\n",
    "    fig.savefig(getimgname(cluster_name, n_clusters, \"heatmap\"), dpi=400)\n",
    "    \n",
    "    #%%\n",
    "    \n",
    "    fig, axs = plt.subplots(n_clusters, 4, figsize=(16, 4 * n_clusters))\n",
    "    # fig, axs = plt.subplots(n_clusters, 5, figsize=(20, 4 * n_clusters))\n",
    "    color_week= ['g', 'g', 'g', 'g', 'g', 'y', 'y']\n",
    "    color_month= ['b','b','b','b','r','r','r','r','r','r','b','b']\n",
    "    ylim = np.max(dataset)\n",
    "    for cluster_no in range(n_clusters):\n",
    "        index_list = numpy.where(label==cluster_no)[0].tolist()\n",
    "        weekday = {0:0, 1:0, 2:0, 3:0, 4:0, 5:0, 6:0}\n",
    "        month = {0:0, 1:0, 2:0, 3:0, 4:0, 5:0, 6:0, 7:0, 8:0, 9:0, 10:0, 11:0}\n",
    "        year = {}\n",
    "        for index in index_list:\n",
    "            if time[index].year not in year:\n",
    "                year[time[index].year] = 0\n",
    "            year[time[index].year] += 1\n",
    "            weekday[time[index].dayofweek] += 1\n",
    "            month[time[index].month - 1] += 1\n",
    "        indexes = numpy.where(label==cluster_no)[0].tolist()\n",
    "        draw_multiple_timelines(dataset, timestamp, indexes, axs[cluster_no][3], ylim)\n",
    "        # if not using_sklearn:\n",
    "        #     df = pandas.DataFrame({'time': timestamp[0], 'value': km.cluster_centers_[cluster_no].reshape(-1)})\n",
    "        #     df[\"time\"] = pandas.to_timedelta(df[\"time\"])\n",
    "        #     df.plot.line(x=\"time\", y=\"value\", ax=axs[cluster_no][4], color=\"red\", alpha=1, legend=False, ylim=(0, 20.0))\n",
    "        # plt.subplot(n_clusters, 5, cluster_no * 5 + 1)\n",
    "        plt.subplot(n_clusters, 4, cluster_no * 4 + 1)\n",
    "        plt.bar([str(x + 1) for x in weekday.keys()], weekday.values(), color=color_week)\n",
    "        plt.ylim(0, 30)\n",
    "        plt.title(\"Weekly Distribution\\nCluster # {}, including {} days\".format(cluster_no, sum(weekday.values())))\n",
    "        # plt.subplot(n_clusters, 5, cluster_no * 5 + 2)\n",
    "        plt.subplot(n_clusters, 4, cluster_no * 4 + 2)\n",
    "        plt.bar([str(x + 1) for x in month.keys()], month.values(), color=color_month)\n",
    "        plt.ylim(0, 30)\n",
    "        plt.title(\"Monthly Distribution\\nCluster # {}, including {} days\".format(cluster_no, sum(month.values())))\n",
    "        # plt.subplot(n_clusters, 5, cluster_no * 5 + 3)\n",
    "        plt.subplot(n_clusters, 4, cluster_no * 4 + 3)\n",
    "        plt.bar(year.keys(), year.values())    \n",
    "        plt.ylim(0, 150)\n",
    "        plt.title(\"Yearly Distribution\\nCluster # {}, including {} days\".format(cluster_no, sum(year.values())))\n",
    "    \n",
    "    plt.tight_layout()\n",
    "    plt.savefig(getimgname(cluster_name, n_clusters,\"distribution\"), dpi=400)"
   ],
   "metadata": {
    "collapsed": false,
    "pycharm": {
     "name": "#%%\n",
     "is_executing": false
    }
   }
  }
 ],
 "metadata": {
  "kernelspec": {
   "display_name": "Python 3",
   "language": "python",
   "name": "python3"
  },
  "language_info": {
   "codemirror_mode": {
    "name": "ipython",
    "version": 2
   },
   "file_extension": ".py",
   "mimetype": "text/x-python",
   "name": "python",
   "nbconvert_exporter": "python",
   "pygments_lexer": "ipython2",
   "version": "2.7.6"
  },
  "pycharm": {
   "stem_cell": {
    "cell_type": "raw",
    "source": [],
    "metadata": {
     "collapsed": false
    }
   }
  }
 },
 "nbformat": 4,
 "nbformat_minor": 0
}